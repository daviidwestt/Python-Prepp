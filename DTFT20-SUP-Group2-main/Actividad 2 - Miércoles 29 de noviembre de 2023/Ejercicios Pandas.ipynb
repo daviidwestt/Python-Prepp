{
 "cells": [
  {
   "cell_type": "markdown",
   "metadata": {},
   "source": [
    "# Ejercicios sobre Pandas"
   ]
  },
  {
   "cell_type": "code",
   "execution_count": null,
   "metadata": {},
   "outputs": [],
   "source": [
    "import pandas as pd"
   ]
  },
  {
   "cell_type": "code",
   "execution_count": null,
   "metadata": {},
   "outputs": [],
   "source": [
    "# Crear DataFrame desde el archivo CSV\n",
    "df_accidentes = pd.read_csv(r'\\Users\\crist\\Desktop\\Proyectos henry\\Python-Prep\\DTFT20-SUP-Group2-main\\Actividad 2 - Miércoles 29 de noviembre de 2023\\Datasets/Nuclear_Incidents.csv')"
   ]
  },
  {
   "cell_type": "markdown",
   "metadata": {},
   "source": [
    "### Ejercicio 1:\n",
    "* Muestra la cantidad de registros para cada país ('Location')."
   ]
  },
  {
   "cell_type": "code",
   "execution_count": null,
   "metadata": {},
   "outputs": [],
   "source": [
    "df = pd.DataFrame(df_accidentes)\n",
    "print(\"Cantidad de registros para cada pais('Location'):\")\n",
    "print(df['Location '].value_counts())"
   ]
  },
  {
   "cell_type": "markdown",
   "metadata": {},
   "source": [
    "### Ejercicio 2:\n",
    "* Eliminar las columnas 'Longitude', 'Latitude' y 'Location' y mostrar las 2 primeras filas del Dataframe."
   ]
  },
  {
   "cell_type": "code",
   "execution_count": null,
   "metadata": {},
   "outputs": [],
   "source": [
    "df = pd.DataFrame(df_accidentes)\n",
    "df = df.drop(['Longitude', 'Latitude', 'Location '], axis=1)\n",
    "print(\"Las 2 primeras filas del DataFrame despues de eliminar las columnas:\")\n",
    "print(df.head(2))\n"
   ]
  },
  {
   "cell_type": "markdown",
   "metadata": {},
   "source": [
    "### Ejercicio 3:\n",
    "* Muestra la cantidad de veces que se repiten los años en la columna 'Date'."
   ]
  },
  {
   "cell_type": "code",
   "execution_count": null,
   "metadata": {},
   "outputs": [],
   "source": [
    "df['Date'] = pd.to_datetime(df['Date'])\n",
    "years = df['Date'].dt.year\n",
    "counts = years.value_counts()\n",
    "print(counts)\n"
   ]
  },
  {
   "cell_type": "markdown",
   "metadata": {},
   "source": [
    "### Ejercicio 4:\n",
    "* Crea una nueva columna llamada 'Severity' que sea la suma de las columnas 'INES level' y 'Numbers of Direct Deaths'."
   ]
  },
  {
   "cell_type": "code",
   "execution_count": null,
   "metadata": {},
   "outputs": [],
   "source": [
    "df['Severity'] = df['INES level'] + df['Numbers of Direct Deaths']\n",
    "df = df.drop(['INES level', 'Numbers of Direct Deaths'], axis=1)\n",
    "print(df)"
   ]
  },
  {
   "cell_type": "markdown",
   "metadata": {},
   "source": [
    "### Ejercicio 5:\n",
    "* Crear un nuevo campo, que se denomine \"Total Deaths\", que guarde la sumatoria de las columnas 'Numbers of Direct Deaths' y 'Numbers of InDirect Deaths'. Informar el total de muertes para el incidente más grave (mayor 'Total Deaths')."
   ]
  },
  {
   "cell_type": "code",
   "execution_count": null,
   "metadata": {},
   "outputs": [],
   "source": [
    "\n",
    "df['Total Deaths'] = df['Numbers of Direct Deaths'] + df['Numbers of InDirect Deaths']\n",
    "max_deaths_incident = df[df['Total Deaths'] == df['Total Deaths'].max()]\n",
    "print(max_deaths_incident)"
   ]
  },
  {
   "cell_type": "markdown",
   "metadata": {},
   "source": [
    "### Ejercicio 6:\n",
    "* Mostrar la cantidad de incidentes nucleares en cada categoría ('Category')."
   ]
  },
  {
   "cell_type": "code",
   "execution_count": null,
   "metadata": {},
   "outputs": [],
   "source": [
    "\n",
    "incident_counts = df.groupby('Category').size()\n",
    "print(incident_counts)fghjf\n"
   ]
  },
  {
   "cell_type": "markdown",
   "metadata": {},
   "source": [
    "### Ejercicio 7:\n",
    "* Filtrar el DataFrame para mostrar solo los incidentes ocurridos en Estados Unidos ('Pais')."
   ]
  },
  {
   "cell_type": "code",
   "execution_count": null,
   "metadata": {},
   "outputs": [],
   "source": [
    "incidentes_ocurridos = df.query('Pais == \"Estados Unidos\"')\n",
    "print(incidentes_ocurridos)\n"
   ]
  },
  {
   "cell_type": "markdown",
   "metadata": {},
   "source": [
    "### Ejercicio 8:\n",
    "* Calcular la cantidad total de muertes directas por incidente nuclear para cada año."
   ]
  },
  {
   "cell_type": "code",
   "execution_count": null,
   "metadata": {},
   "outputs": [],
   "source": []
  },
  {
   "cell_type": "markdown",
   "metadata": {},
   "source": [
    "### Ejercicio 9:\n",
    "* Mostrar la cantidad de incidentes nucleares en cada país ('Pais') en los que el nivel INES es mayor a 5."
   ]
  },
  {
   "cell_type": "code",
   "execution_count": null,
   "metadata": {},
   "outputs": [],
   "source": []
  },
  {
   "cell_type": "markdown",
   "metadata": {},
   "source": [
    "### Ejercicio 10:\n",
    "* Calcular la cantidad de muertes directas totales de Estados Unidos."
   ]
  },
  {
   "cell_type": "code",
   "execution_count": null,
   "metadata": {},
   "outputs": [],
   "source": []
  }
 ],
 "metadata": {
  "kernelspec": {
   "display_name": "Python 3",
   "language": "python",
   "name": "python3"
  },
  "language_info": {
   "codemirror_mode": {
    "name": "ipython",
    "version": 3
   },
   "file_extension": ".py",
   "mimetype": "text/x-python",
   "name": "python",
   "nbconvert_exporter": "python",
   "pygments_lexer": "ipython3",
   "version": "3.12.0"
  }
 },
 "nbformat": 4,
 "nbformat_minor": 2
}
