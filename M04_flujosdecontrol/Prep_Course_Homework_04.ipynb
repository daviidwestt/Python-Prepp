{
 "cells": [
  {
   "attachments": {},
   "cell_type": "markdown",
   "metadata": {},
   "source": [
    "## Flujos de Control"
   ]
  },
  {
   "attachments": {},
   "cell_type": "markdown",
   "metadata": {},
   "source": [
    "1) Crear una variable que contenga un elemento del conjunto de números enteros y luego imprimir por pantalla si es mayor o menor a cero"
   ]
  },
  {
   "cell_type": "code",
   "execution_count": 12,
   "metadata": {},
   "outputs": [
    {
     "name": "stdout",
     "output_type": "stream",
     "text": [
      "los numeros son mayores a cero\n"
     ]
    }
   ],
   "source": [
    "numeros=25\n",
    "if (numeros < 0):\n",
    "    print('los numeros son menores a cero')\n",
    "elif (numeros > 0):\n",
    "    print('los numeros son mayores a cero')\n",
    "else:\n",
    "    print('los numeros son iguales a cero')"
   ]
  },
  {
   "attachments": {},
   "cell_type": "markdown",
   "metadata": {},
   "source": [
    "2) Crear dos variables y un condicional que informe si son del mismo tipo de dato"
   ]
  },
  {
   "cell_type": "code",
   "execution_count": 13,
   "metadata": {},
   "outputs": [
    {
     "name": "stdout",
     "output_type": "stream",
     "text": [
      "las variables son de tipos de dato diferente\n"
     ]
    }
   ],
   "source": [
    "a = 5\n",
    "b = 'hola mundo'\n",
    "if (type(a) == type(b)):\n",
    "    print('las variables son del mismo tipo de dato')\n",
    "else:\n",
    "    print('las variables son de tipos de dato diferente')\n"
   ]
  },
  {
   "attachments": {},
   "cell_type": "markdown",
   "metadata": {},
   "source": [
    "3) Para los valores enteros del 1 al 20, imprimir por pantalla si es par o impar"
   ]
  },
  {
   "cell_type": "code",
   "execution_count": 16,
   "metadata": {},
   "outputs": [
    {
     "name": "stdout",
     "output_type": "stream",
     "text": [
      "el numero  1 es impar\n",
      "el nuemro  2 es par\n",
      "el numero  3 es impar\n",
      "el nuemro  4 es par\n",
      "el numero  5 es impar\n",
      "el nuemro  6 es par\n",
      "el numero  7 es impar\n",
      "el nuemro  8 es par\n",
      "el numero  9 es impar\n",
      "el nuemro  10 es par\n",
      "el numero  11 es impar\n",
      "el nuemro  12 es par\n",
      "el numero  13 es impar\n",
      "el nuemro  14 es par\n",
      "el numero  15 es impar\n",
      "el nuemro  16 es par\n",
      "el numero  17 es impar\n",
      "el nuemro  18 es par\n",
      "el numero  19 es impar\n",
      "el nuemro  20 es par\n"
     ]
    }
   ],
   "source": [
    "for i in range(1, 21):\n",
    "    if i % 2 == 0:\n",
    "        print('el nuemro ', str(i), 'es par')\n",
    "    else:\n",
    "        print('el numero ', str(i), 'es impar')\n"
   ]
  },
  {
   "attachments": {},
   "cell_type": "markdown",
   "metadata": {},
   "source": [
    "4) En un ciclo for mostrar para los valores entre 0 y 5 el resultado de elevarlo a la potencia igual a 3"
   ]
  },
  {
   "cell_type": "code",
   "execution_count": 17,
   "metadata": {},
   "outputs": [
    {
     "name": "stdout",
     "output_type": "stream",
     "text": [
      "1 elevado a la 3ra potencia: 1\n",
      "2 elevado a la 3ra potencia: 8\n",
      "3 elevado a la 3ra potencia: 27\n",
      "4 elevado a la 3ra potencia: 64\n",
      "5 elevado a la 3ra potencia: 125\n"
     ]
    }
   ],
   "source": [
    "for a in range(1,6):\n",
    "    print(str(a), 'elevado a la 3ra potencia:', str(a**3))\n"
   ]
  },
  {
   "attachments": {},
   "cell_type": "markdown",
   "metadata": {},
   "source": [
    "5) Crear una variable que contenga un número entero y realizar un ciclo for la misma cantidad de ciclos"
   ]
  },
  {
   "cell_type": "code",
   "execution_count": 22,
   "metadata": {},
   "outputs": [
    {
     "name": "stdout",
     "output_type": "stream",
     "text": [
      "0\n",
      "1\n",
      "2\n",
      "3\n",
      "4\n",
      "5\n",
      "6\n",
      "7\n",
      "8\n",
      "9\n"
     ]
    }
   ],
   "source": [
    "a= 10\n",
    "for a in range(0,a):\n",
    "    print(a)\n"
   ]
  },
  {
   "attachments": {},
   "cell_type": "markdown",
   "metadata": {},
   "source": [
    "6) Utilizar un ciclo while para realizar el factorial de un número guardado en una variable, sólo si la variable contiene un número entero mayor a 0"
   ]
  },
  {
   "cell_type": "code",
   "execution_count": 29,
   "metadata": {},
   "outputs": [
    {
     "name": "stdout",
     "output_type": "stream",
     "text": [
      "el factorial es 120\n"
     ]
    }
   ],
   "source": [
    "n= 5\n",
    "factorial= n\n",
    "if (type(n) == int):\n",
    "    if (n > 0):\n",
    "        factorial = n\n",
    "        while (n > 2):\n",
    "            n = n - 1\n",
    "            factorial = factorial * n\n",
    "        print('el factorial es', factorial)\n",
    "    else:\n",
    "        print('la variable no es mayor a cero')\n",
    "else:\n",
    "    print('la variebale no es un entero')                \n",
    "\n",
    "\n"
   ]
  },
  {
   "attachments": {},
   "cell_type": "markdown",
   "metadata": {},
   "source": [
    "7) Crear un ciclo for dentro de un ciclo while"
   ]
  },
  {
   "cell_type": "code",
   "execution_count": 1,
   "metadata": {},
   "outputs": [],
   "source": [
    "n = 1\n",
    "while n < 5:\n",
    "    print('ciclo while nro ' + str(n))\n",
    "    for i in range(1, n+1):\n",
    "        print('ciclo for nro ' + str(i))\n",
    "    n += 1 \n",
    "           "
   ]
  },
  {
   "attachments": {},
   "cell_type": "markdown",
   "metadata": {},
   "source": [
    "8) Crear un ciclo while dentro de un ciclo for"
   ]
  },
  {
   "cell_type": "code",
   "execution_count": 5,
   "metadata": {},
   "outputs": [],
   "source": [
    "a = 5\n",
    "for i in range(1, a):\n",
    "    while(a < 5):\n",
    "        a -= 1\n",
    "        print('ciclo while nro ' + str(a))\n",
    "        print('ciclo for nro ' + str(i))\n",
    "\n",
    "        "
   ]
  },
  {
   "cell_type": "code",
   "execution_count": 6,
   "metadata": {},
   "outputs": [
    {
     "name": "stdout",
     "output_type": "stream",
     "text": [
      "ciclo for nro 1\n",
      "ciclo while nro 5\n",
      "ciclo while nro 4\n",
      "ciclo while nro 3\n",
      "ciclo while nro 2\n",
      "ciclo while nro 1\n",
      "ciclo for nro 2\n",
      "ciclo while nro 5\n",
      "ciclo while nro 4\n",
      "ciclo while nro 3\n",
      "ciclo while nro 2\n",
      "ciclo while nro 1\n",
      "ciclo for nro 3\n",
      "ciclo while nro 5\n",
      "ciclo while nro 4\n",
      "ciclo while nro 3\n",
      "ciclo while nro 2\n",
      "ciclo while nro 1\n",
      "ciclo for nro 4\n",
      "ciclo while nro 5\n",
      "ciclo while nro 4\n",
      "ciclo while nro 3\n",
      "ciclo while nro 2\n",
      "ciclo while nro 1\n"
     ]
    }
   ],
   "source": [
    "a = 5 \n",
    "for i in range(1, a):\n",
    "    print('ciclo for nro ' + str(i))\n",
    "\n",
    "    a_temp = a \n",
    "\n",
    "    while a_temp > 0:\n",
    "        print('ciclo while nro ' + str(a_temp))\n",
    "        a_temp -= 1\n",
    "\n",
    "        if a_temp <= 0:\n",
    "            break"
   ]
  },
  {
   "attachments": {},
   "cell_type": "markdown",
   "metadata": {},
   "source": [
    "9) Imprimir los números primos existentes entre 0 y 30"
   ]
  },
  {
   "cell_type": "code",
   "execution_count": 7,
   "metadata": {},
   "outputs": [
    {
     "name": "stdout",
     "output_type": "stream",
     "text": [
      "0\n",
      "1\n",
      "2\n",
      "3\n",
      "5\n",
      "7\n",
      "11\n",
      "13\n",
      "17\n",
      "19\n",
      "23\n",
      "29\n"
     ]
    }
   ],
   "source": [
    "maximo_rango = 30\n",
    "a = 0\n",
    "primo = True\n",
    "while (a < maximo_rango):\n",
    "    for div in range(2, a):\n",
    "        if (a % div == 0):\n",
    "            primo = False\n",
    "    if (primo):\n",
    "        print(a)\n",
    "    else:\n",
    "        primo = True\n",
    "    a += 1                "
   ]
  },
  {
   "attachments": {},
   "cell_type": "markdown",
   "metadata": {},
   "source": [
    "10) ¿Se puede mejorar el proceso del punto 9? Utilizar las sentencias break y/ó continue para tal fin"
   ]
  },
  {
   "cell_type": "code",
   "execution_count": 9,
   "metadata": {},
   "outputs": [
    {
     "name": "stdout",
     "output_type": "stream",
     "text": [
      "0\n",
      "1\n",
      "2\n",
      "3\n",
      "5\n",
      "7\n",
      "11\n",
      "13\n",
      "17\n",
      "19\n",
      "23\n",
      "29\n"
     ]
    }
   ],
   "source": [
    "a = 0 \n",
    "primo = True\n",
    "while (a < maximo_rango):\n",
    "    for div in range(2, a):\n",
    "        if (a % div == 0):\n",
    "            primo = False\n",
    "            break\n",
    "    if (primo):\n",
    "        print(a)\n",
    "    else:\n",
    "        primo = True\n",
    "    a += 1        "
   ]
  },
  {
   "attachments": {},
   "cell_type": "markdown",
   "metadata": {},
   "source": [
    "11) En los puntos 9 y 10, se diseño un código que encuentra números primos y además se lo optimizó. ¿Es posible saber en qué medida se optimizó?"
   ]
  },
  {
   "cell_type": "code",
   "execution_count": 10,
   "metadata": {},
   "outputs": [
    {
     "name": "stdout",
     "output_type": "stream",
     "text": [
      "0\n",
      "1\n",
      "2\n",
      "3\n",
      "5\n",
      "7\n",
      "11\n",
      "13\n",
      "17\n",
      "19\n",
      "23\n",
      "29\n",
      "cantidad de ciclos: 378\n"
     ]
    }
   ],
   "source": [
    "ciclos_sin_break = 0\n",
    "a = 0 \n",
    "primo = True\n",
    "while (a < maximo_rango):\n",
    "    for div in range(2, a):\n",
    "        ciclos_sin_break += 1\n",
    "        if (a % div == 0):\n",
    "            primo = False\n",
    "    if (primo):\n",
    "        print(a)\n",
    "    else:\n",
    "        primo = True\n",
    "    a +=1\n",
    "print('cantidad de ciclos: ' + str(ciclos_sin_break))                    "
   ]
  },
  {
   "cell_type": "code",
   "execution_count": 11,
   "metadata": {},
   "outputs": [
    {
     "name": "stdout",
     "output_type": "stream",
     "text": [
      "0\n",
      "1\n",
      "2\n",
      "3\n",
      "5\n",
      "7\n",
      "11\n",
      "13\n",
      "17\n",
      "19\n",
      "23\n",
      "29\n",
      "cantidad de ciclos: 134\n",
      "se optimizo a un 0.3544973544973545% de ciclos aplicados por break\n"
     ]
    }
   ],
   "source": [
    "ciclos_con_break = 0\n",
    "a = 0\n",
    "primo = True\n",
    "while (a < maximo_rango):\n",
    "    for div in range(2, a):\n",
    "        ciclos_con_break += 1\n",
    "        if (a % div == 0):\n",
    "            primo = False\n",
    "            break\n",
    "    if (primo):\n",
    "        print(a)\n",
    "    else:\n",
    "        primo = True\n",
    "    a += 1\n",
    "print('cantidad de ciclos: ' + str(ciclos_con_break))\n",
    "print('se optimizo a un ' + str(ciclos_con_break/ciclos_sin_break) + '% de ciclos aplicados por break')\n",
    "            "
   ]
  },
  {
   "attachments": {},
   "cell_type": "markdown",
   "metadata": {},
   "source": [
    "12) Aplicando continue, armar un ciclo while que solo imprima los valores divisibles por 12, dentro del rango de números de 100 a 300"
   ]
  },
  {
   "cell_type": "code",
   "execution_count": 16,
   "metadata": {},
   "outputs": [
    {
     "name": "stdout",
     "output_type": "stream",
     "text": [
      "100 es divisible por 12\n",
      "101 es divisible por 12\n",
      "102 es divisible por 12\n",
      "103 es divisible por 12\n",
      "104 es divisible por 12\n",
      "105 es divisible por 12\n",
      "106 es divisible por 12\n",
      "107 es divisible por 12\n",
      "108 es divisible por 12\n",
      "109 es divisible por 12\n",
      "110 es divisible por 12\n",
      "111 es divisible por 12\n",
      "112 es divisible por 12\n",
      "113 es divisible por 12\n",
      "114 es divisible por 12\n",
      "115 es divisible por 12\n",
      "116 es divisible por 12\n",
      "117 es divisible por 12\n",
      "118 es divisible por 12\n",
      "119 es divisible por 12\n",
      "120 es divisible por 12\n",
      "121 es divisible por 12\n",
      "122 es divisible por 12\n",
      "123 es divisible por 12\n",
      "124 es divisible por 12\n",
      "125 es divisible por 12\n",
      "126 es divisible por 12\n",
      "127 es divisible por 12\n",
      "128 es divisible por 12\n",
      "129 es divisible por 12\n",
      "130 es divisible por 12\n",
      "131 es divisible por 12\n",
      "132 es divisible por 12\n",
      "133 es divisible por 12\n",
      "134 es divisible por 12\n",
      "135 es divisible por 12\n",
      "136 es divisible por 12\n",
      "137 es divisible por 12\n",
      "138 es divisible por 12\n",
      "139 es divisible por 12\n",
      "140 es divisible por 12\n",
      "141 es divisible por 12\n",
      "142 es divisible por 12\n",
      "143 es divisible por 12\n",
      "144 es divisible por 12\n",
      "145 es divisible por 12\n",
      "146 es divisible por 12\n",
      "147 es divisible por 12\n",
      "148 es divisible por 12\n",
      "149 es divisible por 12\n",
      "150 es divisible por 12\n",
      "151 es divisible por 12\n",
      "152 es divisible por 12\n",
      "153 es divisible por 12\n",
      "154 es divisible por 12\n",
      "155 es divisible por 12\n",
      "156 es divisible por 12\n",
      "157 es divisible por 12\n",
      "158 es divisible por 12\n",
      "159 es divisible por 12\n",
      "160 es divisible por 12\n",
      "161 es divisible por 12\n",
      "162 es divisible por 12\n",
      "163 es divisible por 12\n",
      "164 es divisible por 12\n",
      "165 es divisible por 12\n",
      "166 es divisible por 12\n",
      "167 es divisible por 12\n",
      "168 es divisible por 12\n",
      "169 es divisible por 12\n",
      "170 es divisible por 12\n",
      "171 es divisible por 12\n",
      "172 es divisible por 12\n",
      "173 es divisible por 12\n",
      "174 es divisible por 12\n",
      "175 es divisible por 12\n",
      "176 es divisible por 12\n",
      "177 es divisible por 12\n",
      "178 es divisible por 12\n",
      "179 es divisible por 12\n",
      "180 es divisible por 12\n",
      "181 es divisible por 12\n",
      "182 es divisible por 12\n",
      "183 es divisible por 12\n",
      "184 es divisible por 12\n",
      "185 es divisible por 12\n",
      "186 es divisible por 12\n",
      "187 es divisible por 12\n",
      "188 es divisible por 12\n",
      "189 es divisible por 12\n",
      "190 es divisible por 12\n",
      "191 es divisible por 12\n",
      "192 es divisible por 12\n",
      "193 es divisible por 12\n",
      "194 es divisible por 12\n",
      "195 es divisible por 12\n",
      "196 es divisible por 12\n",
      "197 es divisible por 12\n",
      "198 es divisible por 12\n",
      "199 es divisible por 12\n",
      "200 es divisible por 12\n",
      "201 es divisible por 12\n",
      "202 es divisible por 12\n",
      "203 es divisible por 12\n",
      "204 es divisible por 12\n",
      "205 es divisible por 12\n",
      "206 es divisible por 12\n",
      "207 es divisible por 12\n",
      "208 es divisible por 12\n",
      "209 es divisible por 12\n",
      "210 es divisible por 12\n",
      "211 es divisible por 12\n",
      "212 es divisible por 12\n",
      "213 es divisible por 12\n",
      "214 es divisible por 12\n",
      "215 es divisible por 12\n",
      "216 es divisible por 12\n",
      "217 es divisible por 12\n",
      "218 es divisible por 12\n",
      "219 es divisible por 12\n",
      "220 es divisible por 12\n",
      "221 es divisible por 12\n",
      "222 es divisible por 12\n",
      "223 es divisible por 12\n",
      "224 es divisible por 12\n",
      "225 es divisible por 12\n",
      "226 es divisible por 12\n",
      "227 es divisible por 12\n",
      "228 es divisible por 12\n",
      "229 es divisible por 12\n",
      "230 es divisible por 12\n",
      "231 es divisible por 12\n",
      "232 es divisible por 12\n",
      "233 es divisible por 12\n",
      "234 es divisible por 12\n",
      "235 es divisible por 12\n",
      "236 es divisible por 12\n",
      "237 es divisible por 12\n",
      "238 es divisible por 12\n",
      "239 es divisible por 12\n",
      "240 es divisible por 12\n",
      "241 es divisible por 12\n",
      "242 es divisible por 12\n",
      "243 es divisible por 12\n",
      "244 es divisible por 12\n",
      "245 es divisible por 12\n",
      "246 es divisible por 12\n",
      "247 es divisible por 12\n",
      "248 es divisible por 12\n",
      "249 es divisible por 12\n",
      "250 es divisible por 12\n",
      "251 es divisible por 12\n",
      "252 es divisible por 12\n",
      "253 es divisible por 12\n",
      "254 es divisible por 12\n",
      "255 es divisible por 12\n",
      "256 es divisible por 12\n",
      "257 es divisible por 12\n",
      "258 es divisible por 12\n",
      "259 es divisible por 12\n",
      "260 es divisible por 12\n",
      "261 es divisible por 12\n",
      "262 es divisible por 12\n",
      "263 es divisible por 12\n",
      "264 es divisible por 12\n",
      "265 es divisible por 12\n",
      "266 es divisible por 12\n",
      "267 es divisible por 12\n",
      "268 es divisible por 12\n",
      "269 es divisible por 12\n",
      "270 es divisible por 12\n",
      "271 es divisible por 12\n",
      "272 es divisible por 12\n",
      "273 es divisible por 12\n",
      "274 es divisible por 12\n",
      "275 es divisible por 12\n",
      "276 es divisible por 12\n",
      "277 es divisible por 12\n",
      "278 es divisible por 12\n",
      "279 es divisible por 12\n",
      "280 es divisible por 12\n",
      "281 es divisible por 12\n",
      "282 es divisible por 12\n",
      "283 es divisible por 12\n",
      "284 es divisible por 12\n",
      "285 es divisible por 12\n",
      "286 es divisible por 12\n",
      "287 es divisible por 12\n",
      "288 es divisible por 12\n",
      "289 es divisible por 12\n",
      "290 es divisible por 12\n",
      "291 es divisible por 12\n",
      "292 es divisible por 12\n",
      "293 es divisible por 12\n",
      "294 es divisible por 12\n",
      "295 es divisible por 12\n",
      "296 es divisible por 12\n",
      "297 es divisible por 12\n",
      "298 es divisible por 12\n",
      "299 es divisible por 12\n",
      "300 es divisible por 12\n",
      "301 es divisible por 12\n"
     ]
    }
   ],
   "source": [
    "a = 99\n",
    "while (a <= 300):\n",
    "    a += 1 \n",
    "    if (n % 12 != 0):\n",
    "        print(a, 'es divisible por 12')\n"
   ]
  },
  {
   "attachments": {},
   "cell_type": "markdown",
   "metadata": {},
   "source": [
    "13) Utilizar la función **input()** que permite hacer ingresos por teclado, para encontrar números primos y dar la opción al usario de buscar el siguiente"
   ]
  },
  {
   "cell_type": "code",
   "execution_count": 21,
   "metadata": {},
   "outputs": [
    {
     "name": "stdout",
     "output_type": "stream",
     "text": [
      "1\n",
      "¡desea encontrar el siguiente numero primo\n",
      "se finalizo el proceso\n"
     ]
    }
   ],
   "source": [
    "a = 1\n",
    "sigue = 1\n",
    "primo = True\n",
    "while (sigue == 1):\n",
    "    for div in range(2, a):\n",
    "        if (a % div == 0):\n",
    "            primo = False\n",
    "            break\n",
    "    if (primo):\n",
    "        print(a)\n",
    "        print('¡desea encontrar el siguiente numero primo?')\n",
    "        if (input() != '1'):\n",
    "            print('se finalizo el proceso')\n",
    "            break\n",
    "    else:\n",
    "        primo = True\n",
    "    a += 1"
   ]
  },
  {
   "attachments": {},
   "cell_type": "markdown",
   "metadata": {},
   "source": [
    "14) Crear un ciclo while que encuentre dentro del rango de 100 a 300 el primer número divisible por 3 y además múltiplo de 6"
   ]
  },
  {
   "cell_type": "code",
   "execution_count": 28,
   "metadata": {},
   "outputs": [
    {
     "name": "stdout",
     "output_type": "stream",
     "text": [
      "el numero es: 102\n"
     ]
    }
   ],
   "source": [
    "v = 100\n",
    "while(v <= 300):\n",
    "    if (v % 6 == 0):\n",
    "        print('el numero es:', str(v))\n",
    "        break\n",
    "    v += 1\n"
   ]
  }
 ],
 "metadata": {
  "interpreter": {
   "hash": "c85384e4cb51c8b72350f3a8712cc8351fdc3955e32a27f9b60c6242ab125f01"
  },
  "kernelspec": {
   "display_name": "Python 3 (ipykernel)",
   "language": "python",
   "name": "python3"
  },
  "language_info": {
   "codemirror_mode": {
    "name": "ipython",
    "version": 3
   },
   "file_extension": ".py",
   "mimetype": "text/x-python",
   "name": "python",
   "nbconvert_exporter": "python",
   "pygments_lexer": "ipython3",
   "version": "3.12.0"
  }
 },
 "nbformat": 4,
 "nbformat_minor": 4
}
